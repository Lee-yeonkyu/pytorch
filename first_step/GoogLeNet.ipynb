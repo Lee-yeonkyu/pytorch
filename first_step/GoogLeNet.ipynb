{
 "cells": [
  {
   "cell_type": "code",
   "execution_count": 1,
   "metadata": {},
   "outputs": [
    {
     "name": "stderr",
     "output_type": "stream",
     "text": [
      "c:\\Users\\jong\\Anaconda3\\envs\\pytorch\\lib\\site-packages\\torchvision\\io\\image.py:13: UserWarning: Failed to load image Python extension: \n",
      "  warn(f\"Failed to load image Python extension: {e}\")\n"
     ]
    }
   ],
   "source": [
    "import numpy as np\n",
    "import torch\n",
    "import torch.nn as nn\n",
    "import torch.optim as optim\n",
    "import torch.nn.init as init\n",
    "import torch.utils.data as data\n",
    "import torchvision.datasets as dset\n",
    "import torchvision.transforms as transforms"
   ]
  },
  {
   "cell_type": "code",
   "execution_count": 2,
   "metadata": {},
   "outputs": [],
   "source": [
    "batch_size= 1\n",
    "learning_rate = 0.0002\n",
    "num_epoch = 100"
   ]
  },
  {
   "cell_type": "code",
   "execution_count": 3,
   "metadata": {},
   "outputs": [],
   "source": [
    "img_dir = \"./images\"\n",
    "img_data = dset.ImageFolder(img_dir, transforms.Compose([\n",
    "                                      transforms.Resize(256),                   \n",
    "                                      transforms.RandomResizedCrop(224),        \n",
    "                                      transforms.RandomHorizontalFlip(),        \n",
    "                                      transforms.ToTensor(),                    \n",
    "            ]))\n",
    "\n",
    "\n",
    "train_loader = data.DataLoader(img_data, batch_size=batch_size,\n",
    "                            shuffle=True, num_workers=2)"
   ]
  },
  {
   "cell_type": "code",
   "execution_count": 5,
   "metadata": {},
   "outputs": [],
   "source": [
    "def conv_1(in_dim, out_dim):\n",
    "    model = nn.Sequential(\n",
    "        nn.Conv2d(in_dim, out_dim, 1, 1),\n",
    "        nn.ReLU(),\n",
    "    )\n",
    "    return model\n",
    "\n",
    "\n",
    "def conv_1_3(in_dim, mid_dim, out_dim):\n",
    "    model = nn.Sequential(\n",
    "        nn.Conv2d(in_dim, mid_dim, 1, 1),\n",
    "        nn.ReLU(),\n",
    "        nn.Conv2d(mid_dim, out_dim, 3, 1, 1),\n",
    "        nn.ReLU(),\n",
    "    )\n",
    "    return model\n",
    "\n",
    "\n",
    "def conv_1_5(in_dim, mid_dim, out_dim):\n",
    "    model = nn.Sequential(\n",
    "        nn.Conv2d(in_dim, mid_dim, 1, 1),\n",
    "        nn.ReLU(),\n",
    "        nn.Conv2d(mid_dim, out_dim, 5, 1, 2),\n",
    "        nn.ReLU(),\n",
    "    )\n",
    "    return model\n",
    "\n",
    "\n",
    "def max_3_1(in_dim, out_dim):\n",
    "    model = nn.Sequential(\n",
    "        nn.MaxPool2d(3, 1, 1),\n",
    "        nn.Conv2d(in_dim, out_dim, 1, 1),\n",
    "        nn.ReLU(),\n",
    "    )\n",
    "    return model"
   ]
  },
  {
   "cell_type": "code",
   "execution_count": 6,
   "metadata": {},
   "outputs": [],
   "source": [
    "class inception_model(nn.Module):\n",
    "    def __init__(\n",
    "        self, in_dim, out_dim_1, mid_dim_3, out_dim_3, mid_dim_5, out_dim_5, pool\n",
    "    ):\n",
    "        super(inception_model, self).__init__()\n",
    "        self.conv_1 = conv_1(in_dim, out_dim_1)\n",
    "        self.conv_1_3 = conv_1_3(in_dim, mid_dim_3, out_dim_3)\n",
    "        self.conv_1_5 = conv_1_5(in_dim, mid_dim_5, out_dim_5)\n",
    "        self.max_3_1 = max_3_1(in_dim, pool)\n",
    "\n",
    "    def forward(self, x):\n",
    "        out_1 = self.conv_1(x)\n",
    "        out_2 = self.conv_1_3(x)\n",
    "        out_3 = self.conv_1_5(x)\n",
    "        out_4 = self.max_3_1(x)\n",
    "        output = torch.cat([out_1, out_2, out_3, out_4], 1)\n",
    "        return output"
   ]
  },
  {
   "cell_type": "code",
   "execution_count": null,
   "metadata": {},
   "outputs": [],
   "source": []
  }
 ],
 "metadata": {
  "kernelspec": {
   "display_name": "pytorch",
   "language": "python",
   "name": "python3"
  },
  "language_info": {
   "codemirror_mode": {
    "name": "ipython",
    "version": 3
   },
   "file_extension": ".py",
   "mimetype": "text/x-python",
   "name": "python",
   "nbconvert_exporter": "python",
   "pygments_lexer": "ipython3",
   "version": "3.7.16"
  }
 },
 "nbformat": 4,
 "nbformat_minor": 2
}
